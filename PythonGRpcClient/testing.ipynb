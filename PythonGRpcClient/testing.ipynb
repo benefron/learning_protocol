{
 "cells": [
  {
   "cell_type": "code",
   "execution_count": 21,
   "metadata": {},
   "outputs": [],
   "source": [
    "import logging\n",
    "\n",
    "import contracts_pb2\n",
    "from SparrowRpcService import *\n",
    "import time"
   ]
  },
  {
   "cell_type": "code",
   "execution_count": 22,
   "metadata": {},
   "outputs": [],
   "source": [
    "def initialiseSparrow() -> SparrowRpcService:\n",
    "    sparrow = SparrowRpcService('localhost', 443)\n",
    "    sparrow.SetPrintInfo(True)\n",
    "    appVersion = sparrow.GetAppVersion()\n",
    "    rpcVersion = sparrow.GetRpcVersion() \n",
    "    sparrow.SetPrintInfo(False)\n",
    "    print('Sparrow App Version: ' + appVersion)\n",
    "    print('Sparrow Rpc version: ' + rpcVersion)\n",
    "    return sparrow"
   ]
  },
  {
   "cell_type": "code",
   "execution_count": 23,
   "metadata": {},
   "outputs": [
    {
     "name": "stdout",
     "output_type": "stream",
     "text": [
      "10:26:45,284716 : Get App Version = 4.12.1.0\n",
      "10:26:45,286220 : Get Rpc Version = 1.0.0\n",
      "Sparrow App Version: 4.12.1.0\n",
      "Sparrow Rpc version: 1.0.0\n"
     ]
    }
   ],
   "source": [
    "sparrow = initialiseSparrow()"
   ]
  },
  {
   "cell_type": "code",
   "execution_count": null,
   "metadata": {},
   "outputs": [],
   "source": []
  },
  {
   "cell_type": "code",
   "execution_count": 26,
   "metadata": {},
   "outputs": [],
   "source": [
    "newCFG = sparrow.CreateEmptyConfiguration('new')"
   ]
  },
  {
   "cell_type": "code",
   "execution_count": 30,
   "metadata": {},
   "outputs": [],
   "source": [
    "cfgMap_1 = sparrow.CreatePixelConfiguration('map_1')"
   ]
  },
  {
   "cell_type": "code",
   "execution_count": 32,
   "metadata": {},
   "outputs": [],
   "source": [
    "pixel_1 = sparrow.SetPixelConfigurationActive(cfgMap_1)"
   ]
  },
  {
   "cell_type": "code",
   "execution_count": 34,
   "metadata": {},
   "outputs": [],
   "source": [
    "ifRec = sparrow.CreateRecMode('Rec1',True,RecGain.Gain1)"
   ]
  },
  {
   "cell_type": "code",
   "execution_count": 37,
   "metadata": {},
   "outputs": [
    {
     "data": {
      "text/plain": [
       "True"
      ]
     },
     "execution_count": 37,
     "metadata": {},
     "output_type": "execute_result"
    }
   ],
   "source": [
    "sparrow.SetPixelModeWell(1,ifRec)"
   ]
  },
  {
   "cell_type": "code",
   "execution_count": 40,
   "metadata": {},
   "outputs": [],
   "source": [
    "ifStim = sparrow.CreateVStimMode('stim1',53,0,20,0,20)"
   ]
  },
  {
   "cell_type": "code",
   "execution_count": 42,
   "metadata": {},
   "outputs": [
    {
     "data": {
      "text/plain": [
       "True"
      ]
     },
     "execution_count": 42,
     "metadata": {},
     "output_type": "execute_result"
    }
   ],
   "source": [
    "sparrow.SetPixelModeColumn(1,1,ifStim)"
   ]
  },
  {
   "cell_type": "code",
   "execution_count": 44,
   "metadata": {},
   "outputs": [],
   "source": [
    "batchID1 = sparrow.CreateBatchProgram('batch')\n",
    "idRef1 = sparrow.CreateRefElectrodeMap('ref1',WellReferenceFlag.External)\n",
    "idMUX = sparrow.CreateMuxMap('mux1',ElectrodePosition.BottomLeft)"
   ]
  },
  {
   "cell_type": "code",
   "execution_count": 63,
   "metadata": {},
   "outputs": [],
   "source": [
    "recConfg1 = sparrow.CreateBatchSweepCfgMap([cfgMap_1],False,batchID1)"
   ]
  },
  {
   "cell_type": "code",
   "execution_count": 62,
   "metadata": {},
   "outputs": [],
   "source": [
    "rec2 = sparrow.CreateRecConfigurationObject('rec2',True,RecGain.Gain1)"
   ]
  },
  {
   "cell_type": "code",
   "execution_count": 70,
   "metadata": {},
   "outputs": [],
   "source": [
    "recbarch2 = sparrow.CreateBatchSweepRec(ifRec,[],recConfg1)\n",
    "tlV = sparrow.CreateTimeLine(recbarch2)\n",
    "tlV1 = sparrow.CreateTimeLineDelay(20,tlV)\n",
    "RecSweep = sparrow.CreateBatchSweepVStim(ifStim,[],recbarch2)\n",
    "tlVAfter = sparrow.CreateTimeLine(recbarch2)\n",
    "tlVA1 = sparrow.CreateTimeLineDelay(100,tlVAfter)\n",
    "\n"
   ]
  },
  {
   "cell_type": "code",
   "execution_count": 56,
   "metadata": {},
   "outputs": [],
   "source": [
    "tl = sparrow.CreateTimeLine(RecSweep)"
   ]
  },
  {
   "cell_type": "code",
   "execution_count": 60,
   "metadata": {},
   "outputs": [],
   "source": [
    "#tl1 = sparrow.CreateTimeLineDelay(600,tl)\n",
    "tl2 = sparrow.CreateTimeLineDelay(10,tl)"
   ]
  },
  {
   "cell_type": "code",
   "execution_count": null,
   "metadata": {},
   "outputs": [],
   "source": []
  },
  {
   "cell_type": "code",
   "execution_count": null,
   "metadata": {},
   "outputs": [],
   "source": []
  }
 ],
 "metadata": {
  "kernelspec": {
   "display_name": "Python 3",
   "language": "python",
   "name": "python3"
  },
  "language_info": {
   "codemirror_mode": {
    "name": "ipython",
    "version": 3
   },
   "file_extension": ".py",
   "mimetype": "text/x-python",
   "name": "python",
   "nbconvert_exporter": "python",
   "pygments_lexer": "ipython3",
   "version": "3.12.6"
  }
 },
 "nbformat": 4,
 "nbformat_minor": 2
}
