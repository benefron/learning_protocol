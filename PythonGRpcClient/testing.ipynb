{
 "cells": [
  {
   "cell_type": "code",
   "execution_count": 1,
   "metadata": {},
   "outputs": [],
   "source": [
    "import logging\n",
    "\n",
    "import contracts_pb2\n",
    "from SparrowRpcService import *\n",
    "import time"
   ]
  },
  {
   "cell_type": "code",
   "execution_count": 2,
   "metadata": {},
   "outputs": [],
   "source": [
    "def initialiseSparrow() -> SparrowRpcService:\n",
    "    sparrow = SparrowRpcService('localhost', 443)\n",
    "    sparrow.SetPrintInfo(True)\n",
    "    appVersion = sparrow.GetAppVersion()\n",
    "    rpcVersion = sparrow.GetRpcVersion() \n",
    "    sparrow.SetPrintInfo(False)\n",
    "    print('Sparrow App Version: ' + appVersion)\n",
    "    print('Sparrow Rpc version: ' + rpcVersion)\n",
    "    return sparrow"
   ]
  },
  {
   "cell_type": "code",
   "execution_count": 3,
   "metadata": {},
   "outputs": [
    {
     "name": "stdout",
     "output_type": "stream",
     "text": [
      "10:49:09,890513 : Get App Version = 4.13.0.0\n",
      "10:49:09,892513 : Get Rpc Version = 1.0.0\n",
      "Sparrow App Version: 4.13.0.0\n",
      "Sparrow Rpc version: 1.0.0\n"
     ]
    }
   ],
   "source": [
    "sparrow = initialiseSparrow()"
   ]
  },
  {
   "cell_type": "code",
   "execution_count": null,
   "metadata": {},
   "outputs": [],
   "source": []
  },
  {
   "cell_type": "code",
   "execution_count": 10,
   "metadata": {},
   "outputs": [],
   "source": [
    "newCFG = sparrow.CreateEmptyConfiguration('new2')"
   ]
  },
  {
   "cell_type": "code",
   "execution_count": 12,
   "metadata": {},
   "outputs": [],
   "source": [
    "cfgMap_1 = sparrow.CreatePixelConfiguration('map_2')"
   ]
  },
  {
   "cell_type": "code",
   "execution_count": 17,
   "metadata": {},
   "outputs": [],
   "source": [
    "pixel_1 = sparrow.SetPixelConfigurationActive(cfgMap_2)"
   ]
  },
  {
   "cell_type": "code",
   "execution_count": 15,
   "metadata": {},
   "outputs": [],
   "source": [
    "ifRec = sparrow.CreateRecMode('Rec1',True,RecGain.Gain1)"
   ]
  },
  {
   "cell_type": "code",
   "execution_count": 37,
   "metadata": {},
   "outputs": [],
   "source": [
    "k = 4\n",
    "for i in range(1,5):\n",
    "    sparrow.SetPixelModeWell(i+k,ifRec)"
   ]
  },
  {
   "cell_type": "code",
   "execution_count": 32,
   "metadata": {},
   "outputs": [],
   "source": [
    "ifStim = sparrow.CreateVStimMode('stim1',53,0,20,0,20)"
   ]
  },
  {
   "cell_type": "code",
   "execution_count": 19,
   "metadata": {},
   "outputs": [
    {
     "ename": "NameError",
     "evalue": "name 'ifStim' is not defined",
     "output_type": "error",
     "traceback": [
      "\u001b[1;31m---------------------------------------------------------------------------\u001b[0m",
      "\u001b[1;31mNameError\u001b[0m                                 Traceback (most recent call last)",
      "Cell \u001b[1;32mIn[19], line 1\u001b[0m\n\u001b[1;32m----> 1\u001b[0m sparrow\u001b[38;5;241m.\u001b[39mSetPixelModeColumn(\u001b[38;5;241m1\u001b[39m,\u001b[38;5;241m1\u001b[39m,\u001b[43mifStim\u001b[49m)\n",
      "\u001b[1;31mNameError\u001b[0m: name 'ifStim' is not defined"
     ]
    }
   ],
   "source": [
    "sparrow.SetPixelModeColumn(1,1,ifStim)"
   ]
  },
  {
   "cell_type": "code",
   "execution_count": 39,
   "metadata": {},
   "outputs": [],
   "source": [
    "g = [1,3,5,7,9]\n"
   ]
  },
  {
   "cell_type": "code",
   "execution_count": null,
   "metadata": {},
   "outputs": [],
   "source": []
  },
  {
   "cell_type": "code",
   "execution_count": 41,
   "metadata": {},
   "outputs": [],
   "source": [
    "for elec in g:\n",
    "    sparrow.SetPixelMode(elec,ifStim)"
   ]
  },
  {
   "cell_type": "code",
   "execution_count": 65,
   "metadata": {},
   "outputs": [
    {
     "data": {
      "text/plain": [
       "True"
      ]
     },
     "execution_count": 65,
     "metadata": {},
     "output_type": "execute_result"
    }
   ],
   "source": [
    "sparrow.SetPixelModeRange(1+256*0,17+256*0,ifStim)"
   ]
  },
  {
   "cell_type": "code",
   "execution_count": 20,
   "metadata": {},
   "outputs": [],
   "source": [
    "batchID1 = sparrow.CreateBatchProgram('batch')\n",
    "\n"
   ]
  },
  {
   "cell_type": "code",
   "execution_count": 14,
   "metadata": {},
   "outputs": [],
   "source": [
    "idRef1 = sparrow.CreateRefElectrodeMap('ref1',WellReferenceFlag.External)"
   ]
  },
  {
   "cell_type": "code",
   "execution_count": 21,
   "metadata": {},
   "outputs": [],
   "source": [
    "idMUX = sparrow.CreateMuxMap('mux1',ElectrodePosition.BottomLeft)"
   ]
  },
  {
   "cell_type": "code",
   "execution_count": 24,
   "metadata": {},
   "outputs": [],
   "source": [
    "recConfg1 = sparrow.CreateBatchSweepCfgMap([cfgMap_1,cfgMap_2],False,batchID1)"
   ]
  },
  {
   "cell_type": "code",
   "execution_count": 25,
   "metadata": {},
   "outputs": [],
   "source": [
    "rec2 = sparrow.CreateRecConfigurationObject('rec2',True,RecGain.Gain1)"
   ]
  },
  {
   "cell_type": "code",
   "execution_count": 26,
   "metadata": {},
   "outputs": [],
   "source": [
    "recbarch2 = sparrow.CreateBatchSweepRec(ifRec,[],recConfg1)"
   ]
  },
  {
   "cell_type": "code",
   "execution_count": 20,
   "metadata": {},
   "outputs": [],
   "source": [
    "RecSweep = sparrow.CreateBatchSweepVStim(ifStim,[],recbarch2)"
   ]
  },
  {
   "cell_type": "code",
   "execution_count": 29,
   "metadata": {},
   "outputs": [],
   "source": [
    "tlV = sparrow.CreateTimeLine(recbarch2)\n",
    "tlV1 = sparrow.CreateTimeLineDelay(30*1000*60,tlV)"
   ]
  },
  {
   "cell_type": "code",
   "execution_count": 25,
   "metadata": {},
   "outputs": [],
   "source": [
    "stim1 = sparrow.CreateTimeLineStimulationEvent(stimulationMode=StimulationMode.Voltage,pulsePolarity= PulsePolarity.NegativePulseFirst,pulseCount=1,parentId=tlV)\n"
   ]
  },
  {
   "cell_type": "code",
   "execution_count": 26,
   "metadata": {},
   "outputs": [],
   "source": [
    "tlV2 = sparrow.CreateTimeLineDelay(100,tlV)"
   ]
  },
  {
   "cell_type": "code",
   "execution_count": 18,
   "metadata": {},
   "outputs": [],
   "source": [
    "recbarch2 = sparrow.CreateBatchSweepRec(ifRec,[],recConfg1)\n",
    "tlV = sparrow.CreateTimeLine(recbarch2)\n",
    "tlV1 = sparrow.CreateTimeLineDelay(20,tlV)\n",
    "RecSweep = sparrow.CreateBatchSweepVStim(ifStim,[],recbarch2)\n",
    "tlVAfter = sparrow.CreateTimeLine(recbarch2)\n",
    "tlVA1 = sparrow.CreateTimeLineDelay(100,tlVAfter)\n",
    "\n"
   ]
  },
  {
   "cell_type": "code",
   "execution_count": 56,
   "metadata": {},
   "outputs": [],
   "source": [
    "tl = sparrow.CreateTimeLine(RecSweep)"
   ]
  },
  {
   "cell_type": "code",
   "execution_count": 60,
   "metadata": {},
   "outputs": [],
   "source": [
    "#tl1 = sparrow.CreateTimeLineDelay(600,tl)\n",
    "tl2 = sparrow.CreateTimeLineDelay(10,tl)"
   ]
  },
  {
   "cell_type": "code",
   "execution_count": null,
   "metadata": {},
   "outputs": [],
   "source": []
  },
  {
   "cell_type": "code",
   "execution_count": null,
   "metadata": {},
   "outputs": [],
   "source": []
  }
 ],
 "metadata": {
  "kernelspec": {
   "display_name": "Python 3",
   "language": "python",
   "name": "python3"
  },
  "language_info": {
   "codemirror_mode": {
    "name": "ipython",
    "version": 3
   },
   "file_extension": ".py",
   "mimetype": "text/x-python",
   "name": "python",
   "nbconvert_exporter": "python",
   "pygments_lexer": "ipython3",
   "version": "3.12.6"
  }
 },
 "nbformat": 4,
 "nbformat_minor": 2
}
